{
 "cells": [
  {
   "cell_type": "markdown",
   "metadata": {},
   "source": [
    "# Practice session 1"
   ]
  },
  {
   "cell_type": "markdown",
   "metadata": {},
   "source": [
    "## Training a toy sequence copy model with Sockeye"
   ]
  },
  {
   "cell_type": "markdown",
   "metadata": {},
   "source": [
    "Now that we have installed Sockeye (see instructions in slides), we will use it to train a very small sequence-to-sequence model. Its task is quite simple: it has to learn to copy a sequence of numbers.\n",
    "\n",
    "`1 3 4 1 1 8 7 9 6` $\\rightarrow$ `1 3 4 1 1 8 7 9 6`"
   ]
  },
  {
   "cell_type": "markdown",
   "metadata": {},
   "source": [
    "### 1. Generate training & validation data\n",
    "\n",
    "Sockeye takes in parallel files with source and target data. It means that we need two files containing training data, where each line of the target file is a translation (in our case, simply a copy) of the source file line with the same number. Same goes for validation data.\n",
    "\n",
    "**Task 1.** Create 4 files: `data/train.source`, `data/train.target`, `data/dev.source`, and `data/dev.target`. The train files should contain 99000 lines each, the dev files 1000 lines each. Source and target files should be identical. Each line should consist of random integers from 0 to 10, delimited by spaces. The number of integers in each line should also be determined randomly and be between 5 and 15."
   ]
  },
  {
   "cell_type": "code",
   "execution_count": null,
   "metadata": {},
   "outputs": [],
   "source": [
    "### YOUR CODE ###"
   ]
  },
  {
   "cell_type": "markdown",
   "metadata": {},
   "source": [
    "### 2. Train the model\n",
    "\n",
    "We will now train a recurrent neural network to copy the integer sequences. It will be a 1-layer RNN model with a bidirectional LSTM as the encoder and a uni-directional LSTM as the decoder. The RNNs have 16 hidden units and we learn word embeddings of size 4.\n",
    "\n",
    "**Task 2.** Run the command below. It may take 10 to 15 minutes to finish. Check what the log shows."
   ]
  },
  {
   "cell_type": "code",
   "execution_count": null,
   "metadata": {},
   "outputs": [],
   "source": [
    "!python -m sockeye.train --source data/train.source \\\n",
    "                         --target data/train.target \\\n",
    "                         --validation-source data/dev.source \\\n",
    "                         --validation-target data/dev.target \\\n",
    "                         --encoder rnn --decoder rnn \\\n",
    "                         --num-layers 1:1 \\\n",
    "                         --num-embed 4 \\\n",
    "                         --rnn-num-hidden 16 \\\n",
    "                         --rnn-attention-type dot \\\n",
    "                         --use-cpu \\\n",
    "                         --metrics perplexity accuracy \\\n",
    "                         --initial-learning-rate 0.002 \\\n",
    "                         --checkpoint-interval 500 \\\n",
    "                         --max-num-checkpoint-not-improved 3 \\\n",
    "                         --max-num-epochs 20 \\\n",
    "                         --output copy_model"
   ]
  },
  {
   "cell_type": "markdown",
   "metadata": {},
   "source": [
    "### 3. Look at the results\n",
    "\n",
    "**Task 3.** Translate a line with the trained model. Is the input reproduced correctly?"
   ]
  },
  {
   "cell_type": "code",
   "execution_count": null,
   "metadata": {},
   "outputs": [],
   "source": [
    "!echo \"1 3 3 5 1 9 0 8 8 0\" | python -m sockeye.translate -m copy_model --use-cpu"
   ]
  },
  {
   "cell_type": "markdown",
   "metadata": {},
   "source": [
    "**Task 4.** We have translated our input with the parameters of the best checkpoint. Using the parameter `--checkpoint` we can also translate with any other checkpoint before the model converged. "
   ]
  },
  {
   "cell_type": "code",
   "execution_count": null,
   "metadata": {},
   "outputs": [],
   "source": [
    "!echo \"1 3 3 5 1 9 0 8 8 0\" | python -m sockeye.translate -m copy_model --use-cpu --checkpoint 2"
   ]
  },
  {
   "cell_type": "markdown",
   "metadata": {},
   "source": [
    "**Task 5.** Look in the model folder, check what files you have there."
   ]
  },
  {
   "cell_type": "code",
   "execution_count": null,
   "metadata": {},
   "outputs": [],
   "source": []
  }
 ],
 "metadata": {
  "kernelspec": {
   "display_name": "Python [conda env:mtcourse]",
   "language": "python",
   "name": "conda-env-mtcourse-py"
  },
  "language_info": {
   "codemirror_mode": {
    "name": "ipython",
    "version": 3
   },
   "file_extension": ".py",
   "mimetype": "text/x-python",
   "name": "python",
   "nbconvert_exporter": "python",
   "pygments_lexer": "ipython3",
   "version": "3.6.10"
  }
 },
 "nbformat": 4,
 "nbformat_minor": 2
}
